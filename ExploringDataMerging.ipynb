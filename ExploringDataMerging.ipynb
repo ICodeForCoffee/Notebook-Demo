{
 "cells": [
  {
   "cell_type": "code",
   "execution_count": null,
   "metadata": {
    "dotnet_interactive": {
     "language": "csharp"
    },
    "polyglot_notebook": {
     "kernelName": "csharp"
    }
   },
   "outputs": [
    {
     "name": "stdout",
     "output_type": "stream",
     "text": [
      "We have 20 people loaded\r\n"
     ]
    }
   ],
   "source": [
    "using System.IO;\n",
    "\n",
    "var lines = File.ReadAllLines(\"people.csv\");\n",
    "\n",
    "record Person(int Id, string FirstName, string LastName, int Make);\n",
    "var random = new Random();\n",
    "\n",
    "List<Person> people = new List<Person>();\n",
    "foreach(var line in lines.Skip(1))\n",
    "{\n",
    "    var values = line.Split(\",\");\n",
    "\n",
    "    people.Add(new Person(Convert.ToInt32(values[0]), values[1], values[2], random.Next(7)));\n",
    "}\n",
    "\n",
    "Console.WriteLine($\"We have {people.Count} people loaded\");"
   ]
  },
  {
   "cell_type": "code",
   "execution_count": null,
   "metadata": {},
   "outputs": [
    {
     "data": {
      "text/html": [
       "<div><div></div><div></div><div><strong>Installed Packages</strong><ul><li><span>Microsoft.DotNet.Interactive.SqlServer, 1.0.0-beta.24568.1</span></li></ul></div></div>"
      ]
     },
     "metadata": {},
     "output_type": "display_data"
    },
    {
     "data": {
      "text/plain": [
       "Loading extension script from `C:\\Users\\poul1\\.nuget\\packages\\microsoft.dotnet.interactive.sqlserver\\1.0.0-beta.24568.1\\interactive-extensions\\dotnet\\extension.dib`"
      ]
     },
     "metadata": {},
     "output_type": "display_data"
    },
    {
     "data": {
      "text/html": [
       "<details><summary>Query Microsoft SQL Server databases.</summary>\r\n",
       "<p>This extension adds support for connecting to Microsoft SQL Server databases using the <code>#!connect mssql</code> magic command. For more information, run a cell using the <code>#!sql</code> magic command.</p>\r\n",
       "</details>"
      ]
     },
     "metadata": {},
     "output_type": "display_data"
    }
   ],
   "source": [
    "#r \"nuget:Microsoft.DotNet.Interactive.SqlServer,*-*\""
   ]
  },
  {
   "cell_type": "code",
   "execution_count": null,
   "metadata": {},
   "outputs": [
    {
     "data": {
      "text/plain": [
       "Kernel added: #!sql-autoinfo"
      ]
     },
     "metadata": {},
     "output_type": "display_data"
    }
   ],
   "source": [
    "#!connect mssql --kernel-name autoinfo \"Persist Security Info=False; Integrated Security=true; Initial Catalog=autoinfo; Server=(localdb)\\MsSqlLocalDb\""
   ]
  },
  {
   "cell_type": "code",
   "execution_count": null,
   "metadata": {
    "dotnet_interactive": {
     "language": "sql"
    },
    "polyglot_notebook": {
     "kernelName": "sql"
    }
   },
   "outputs": [
    {
     "data": {
      "text/plain": [
       "(6 rows affected)"
      ]
     },
     "metadata": {},
     "output_type": "display_data"
    },
    {
     "data": {
      "text/csv": [
       "Id,Name\r\n",
       "1,VW\r\n",
       "2,Ford\r\n",
       "3,Saab\r\n",
       "4,Honda\r\n",
       "5,BMW\r\n",
       "6,Toyota\r\n"
      ],
      "text/html": [
       "<table><thead><tr><td><span>Id</span></td><td><span>Name</span></td></tr></thead><tbody><tr><td><div class=\"dni-plaintext\"><pre>1</pre></div></td><td>VW</td></tr><tr><td><div class=\"dni-plaintext\"><pre>2</pre></div></td><td>Ford</td></tr><tr><td><div class=\"dni-plaintext\"><pre>3</pre></div></td><td>Saab</td></tr><tr><td><div class=\"dni-plaintext\"><pre>4</pre></div></td><td>Honda</td></tr><tr><td><div class=\"dni-plaintext\"><pre>5</pre></div></td><td>BMW</td></tr><tr><td><div class=\"dni-plaintext\"><pre>6</pre></div></td><td>Toyota</td></tr></tbody></table><style>\r\n",
       ".dni-code-hint {\r\n",
       "    font-style: italic;\r\n",
       "    overflow: hidden;\r\n",
       "    white-space: nowrap;\r\n",
       "}\r\n",
       ".dni-treeview {\r\n",
       "    white-space: nowrap;\r\n",
       "}\r\n",
       ".dni-treeview td {\r\n",
       "    vertical-align: top;\r\n",
       "    text-align: start;\r\n",
       "}\r\n",
       "details.dni-treeview {\r\n",
       "    padding-left: 1em;\r\n",
       "}\r\n",
       "table td {\r\n",
       "    text-align: start;\r\n",
       "}\r\n",
       "table tr { \r\n",
       "    vertical-align: top; \r\n",
       "    margin: 0em 0px;\r\n",
       "}\r\n",
       "table tr td pre \r\n",
       "{ \r\n",
       "    vertical-align: top !important; \r\n",
       "    margin: 0em 0px !important;\r\n",
       "} \r\n",
       "table th {\r\n",
       "    text-align: start;\r\n",
       "}\r\n",
       "</style>"
      ]
     },
     "metadata": {},
     "output_type": "display_data"
    }
   ],
   "source": [
    "#!sql-autoinfo\n",
    "SELECT * from Makes"
   ]
  },
  {
   "cell_type": "code",
   "execution_count": null,
   "metadata": {},
   "outputs": [
    {
     "data": {
      "text/markdown": [
       "Scaffolding a `DbContext` and initializing an instance of it called `autoInfoEf` in the C# kernel."
      ]
     },
     "metadata": {},
     "output_type": "display_data"
    },
    {
     "data": {
      "text/html": [
       "<div><div></div><div></div><div><strong>Installed Packages</strong><ul><li><span>Humanizer, 2.14.1</span></li><li><span>humanizer.core, 2.14.1</span></li><li><span>microsoft.data.sqlclient, 5.2.2</span></li><li><span>Microsoft.EntityFrameworkCore.Design, 8.0.10</span></li><li><span>microsoft.entityframeworkcore.sqlserver, 8.0.10</span></li><li><span>microsoft.identity.client, 4.65.0</span></li></ul></div></div>"
      ]
     },
     "metadata": {},
     "output_type": "display_data"
    },
    {
     "data": {
      "text/plain": [
       "Kernel added: #!sql-autoInfoEf"
      ]
     },
     "metadata": {},
     "output_type": "display_data"
    }
   ],
   "source": [
    "#!connect mssql --create-dbcontext --kernel-name autoInfoEf \"Persist Security Info=False; Integrated Security=true; Initial Catalog=autoInfo; Server=(localdb)\\MsSqlLocalDb\""
   ]
  },
  {
   "cell_type": "code",
   "execution_count": null,
   "metadata": {
    "dotnet_interactive": {
     "language": "csharp"
    },
    "polyglot_notebook": {
     "kernelName": "csharp"
    }
   },
   "outputs": [
    {
     "name": "stdout",
     "output_type": "stream",
     "text": [
      "System.Linq.Enumerable+<JoinIterator>d__129`4[Submission#1+Person,Submission#4+Make,System.Int32,<>f__AnonymousType0#6`4[System.Int32,System.String,System.String,System.String]]\r\n"
     ]
    }
   ],
   "source": [
    "//Lets merge our data\n",
    "var newThing = people.Join(autoInfoEf.Makes, p => p.Make, m => m.Id, (p, m) => new {\n",
    "Id = p.Id,\n",
    "FirstName = p.FirstName,\n",
    "LastName = p.LastName,\n",
    "Make = m.Name\n",
    "});\n",
    "\n",
    "Console.WriteLine(newThing);"
   ]
  },
  {
   "cell_type": "code",
   "execution_count": null,
   "metadata": {
    "dotnet_interactive": {
     "language": "javascript"
    },
    "polyglot_notebook": {
     "kernelName": "javascript"
    }
   },
   "outputs": [
    {
     "data": {
      "application/json": [
       {
        "FirstName": "Evelyn",
        "Id": 73260,
        "LastName": "Perry",
        "Make": "BMW"
       },
       {
        "FirstName": "Quinn",
        "Id": 38376,
        "LastName": "Kelly",
        "Make": "BMW"
       },
       {
        "FirstName": "Jeremiah",
        "Id": 44701,
        "LastName": "Gray",
        "Make": "VW"
       },
       {
        "FirstName": "Iris",
        "Id": 77389,
        "LastName": "Gonzalez",
        "Make": "Ford"
       },
       {
        "FirstName": "Theo",
        "Id": 76306,
        "LastName": "Adams",
        "Make": "BMW"
       },
       {
        "FirstName": "Owen",
        "Id": 6952,
        "LastName": "Martinez",
        "Make": "VW"
       },
       {
        "FirstName": "Liam",
        "Id": 14338,
        "LastName": "Rivera",
        "Make": "Honda"
       },
       {
        "FirstName": "Quinn",
        "Id": 16240,
        "LastName": "Perez",
        "Make": "VW"
       },
       {
        "FirstName": "Josiah",
        "Id": 70953,
        "LastName": "Robinson",
        "Make": "Ford"
       },
       {
        "FirstName": "Eden",
        "Id": 27716,
        "LastName": "Ward-Green",
        "Make": "Honda"
       },
       {
        "FirstName": "Olivia",
        "Id": 49514,
        "LastName": "Martin",
        "Make": "Toyota"
       },
       {
        "FirstName": "Maria",
        "Id": 56459,
        "LastName": "Johnson",
        "Make": "Ford"
       },
       {
        "FirstName": "Walker",
        "Id": 43895,
        "LastName": "Mitchell",
        "Make": "VW"
       },
       {
        "FirstName": "Beau",
        "Id": 67111,
        "LastName": "Parker",
        "Make": "BMW"
       },
       {
        "FirstName": "Claire",
        "Id": 82695,
        "LastName": "Martinez",
        "Make": "BMW"
       },
       {
        "FirstName": "Parker",
        "Id": 11724,
        "LastName": "Russell",
        "Make": "Toyota"
       },
       {
        "FirstName": "Claire",
        "Id": 21806,
        "LastName": "Williams",
        "Make": "Ford"
       },
       {
        "FirstName": "David",
        "Id": 66337,
        "LastName": "Robinson",
        "Make": "Honda"
       },
       {
        "FirstName": "Joshua",
        "Id": 62494,
        "LastName": "Rogers",
        "Make": "VW"
       }
      ]
     },
     "metadata": {},
     "output_type": "display_data"
    }
   ],
   "source": [
    "#!set --value @csharp:newThing --name mergedData\n",
    "\n",
    "console.log(mergedData);"
   ]
  }
 ],
 "metadata": {
  "kernelspec": {
   "display_name": ".NET (C#)",
   "language": "C#",
   "name": ".net-csharp"
  },
  "polyglot_notebook": {
   "kernelInfo": {
    "defaultKernelName": "csharp",
    "items": [
     {
      "aliases": [],
      "languageName": "csharp",
      "name": "csharp"
     },
     {
      "aliases": [],
      "languageName": "T-SQL",
      "name": "sql-autolot"
     },
     {
      "aliases": [],
      "languageName": "T-SQL",
      "name": "sql-autolotEf"
     }
    ]
   }
  }
 },
 "nbformat": 4,
 "nbformat_minor": 2
}
