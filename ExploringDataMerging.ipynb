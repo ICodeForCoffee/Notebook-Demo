{
 "cells": [
  {
   "cell_type": "code",
   "execution_count": null,
   "metadata": {
    "dotnet_interactive": {
     "language": "csharp"
    },
    "polyglot_notebook": {
     "kernelName": "csharp"
    }
   },
   "outputs": [],
   "source": [
    "using System.IO;\n",
    "\n",
    "var lines = File.ReadAllLines(\"people.csv\");\n",
    "\n",
    "record Person(int Id, string FirstName, string LastName, int Make);\n",
    "var random = new Random();\n",
    "\n",
    "List<Person> people = new List<Person>();\n",
    "foreach(var line in lines.Skip(1))\n",
    "{\n",
    "    var values = line.Split(\",\");\n",
    "\n",
    "    people.Add(new Person(Convert.ToInt32(values[0]), values[1], values[2], random.Next(7)));\n",
    "}\n",
    "\n",
    "Console.WriteLine($\"We have {people.Count} people loaded\");"
   ]
  },
  {
   "cell_type": "code",
   "execution_count": null,
   "metadata": {
    "dotnet_interactive": {
     "language": "csharp"
    },
    "polyglot_notebook": {
     "kernelName": "csharp"
    }
   },
   "outputs": [],
   "source": [
    "#r \"nuget:Microsoft.DotNet.Interactive.SqlServer,*-*\""
   ]
  },
  {
   "cell_type": "code",
   "execution_count": null,
   "metadata": {
    "dotnet_interactive": {
     "language": "csharp"
    },
    "polyglot_notebook": {
     "kernelName": "csharp"
    }
   },
   "outputs": [],
   "source": [
    "#!connect mssql --kernel-name autoinfo \"Persist Security Info=False; Integrated Security=true; Initial Catalog=autoinfo; Server=(localdb)\\MsSqlLocalDb\""
   ]
  },
  {
   "cell_type": "code",
   "execution_count": null,
   "metadata": {
    "dotnet_interactive": {
     "language": "sql"
    },
    "polyglot_notebook": {
     "kernelName": "sql"
    }
   },
   "outputs": [],
   "source": [
    "#!sql-autoinfo\n",
    "SELECT * from Makes"
   ]
  },
  {
   "cell_type": "code",
   "execution_count": null,
   "metadata": {
    "dotnet_interactive": {
     "language": "csharp"
    },
    "polyglot_notebook": {
     "kernelName": "csharp"
    }
   },
   "outputs": [],
   "source": [
    "#!connect mssql --create-dbcontext --kernel-name autoInfoEf \"Persist Security Info=False; Integrated Security=true; Initial Catalog=autoInfo; Server=(localdb)\\MsSqlLocalDb\""
   ]
  },
  {
   "cell_type": "code",
   "execution_count": null,
   "metadata": {
    "dotnet_interactive": {
     "language": "csharp"
    },
    "polyglot_notebook": {
     "kernelName": "csharp"
    }
   },
   "outputs": [],
   "source": [
    "//Lets merge our data\n",
    "var newThing = people.Join(autoInfoEf.Makes, p => p.Make, m => m.Id, (p, m) => new {\n",
    "Id = p.Id,\n",
    "FirstName = p.FirstName,\n",
    "LastName = p.LastName,\n",
    "Make = m.Name\n",
    "});\n",
    "\n",
    "Console.WriteLine(newThing);"
   ]
  },
  {
   "cell_type": "code",
   "execution_count": null,
   "metadata": {
    "dotnet_interactive": {
     "language": "javascript"
    },
    "polyglot_notebook": {
     "kernelName": "javascript"
    }
   },
   "outputs": [],
   "source": [
    "#!set --value @csharp:newThing --name mergedData\n",
    "\n",
    "console.log(mergedData);"
   ]
  }
 ],
 "metadata": {
  "kernelspec": {
   "display_name": ".NET (C#)",
   "language": "C#",
   "name": ".net-csharp"
  },
  "polyglot_notebook": {
   "kernelInfo": {
    "defaultKernelName": "csharp",
    "items": [
     {
      "aliases": [],
      "languageName": "csharp",
      "name": "csharp"
     },
     {
      "aliases": [],
      "languageName": "T-SQL",
      "name": "sql-autolot"
     },
     {
      "aliases": [],
      "languageName": "T-SQL",
      "name": "sql-autolotEf"
     }
    ]
   }
  }
 },
 "nbformat": 4,
 "nbformat_minor": 2
}
