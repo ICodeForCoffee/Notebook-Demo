{
 "cells": [
  {
   "cell_type": "markdown",
   "metadata": {},
   "source": [
    "Let's flip some coins in Python."
   ]
  },
  {
   "cell_type": "code",
   "execution_count": 14,
   "metadata": {},
   "outputs": [
    {
     "name": "stdout",
     "output_type": "stream",
     "text": [
      "That average is 0.499\n"
     ]
    }
   ],
   "source": [
    "import numpy as numpy\n",
    "\n",
    "runCount = 1000\n",
    "total = 0\n",
    "\n",
    "for x in range(runCount):\n",
    "    # Generate numbers 0 or 1.\n",
    "    result = numpy.random.randint(0, 2)\n",
    "    \n",
    "    if (runCount <= 10):\n",
    "        print(result)\n",
    "    total += result\n",
    "\n",
    "average = total/runCount\n",
    "print(f\"That average is {average}\")"
   ]
  }
 ],
 "metadata": {
  "kernelspec": {
   "display_name": "Python 3",
   "language": "python",
   "name": "python3"
  },
  "language_info": {
   "codemirror_mode": {
    "name": "ipython",
    "version": 3
   },
   "file_extension": ".py",
   "mimetype": "text/x-python",
   "name": "python",
   "nbconvert_exporter": "python",
   "pygments_lexer": "ipython3",
   "version": "3.13.0"
  }
 },
 "nbformat": 4,
 "nbformat_minor": 2
}
